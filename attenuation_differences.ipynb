{
 "cells": [
  {
   "cell_type": "code",
   "execution_count": null,
   "id": "ce1aba0e-827a-4ac5-82bd-1d0aff22a8f7",
   "metadata": {},
   "outputs": [],
   "source": [
    "import octpy as oct\n",
    "import matplotlib.pyplot as plt\n",
    "import numpy as np\n",
    "import pandas as pd\n",
    "import os\n",
    "\n",
    "%load_ext autoreload\n",
    "%autoreload 2"
   ]
  },
  {
   "cell_type": "markdown",
   "id": "f6720ff1-1710-4763-8e4b-0cbb8f52f752",
   "metadata": {
    "tags": []
   },
   "source": [
    "## Directories"
   ]
  },
  {
   "cell_type": "code",
   "execution_count": null,
   "id": "19c75f5c-65e7-4de9-87fd-e1b5d6b8e107",
   "metadata": {},
   "outputs": [],
   "source": [
    "# working directory\n",
    "wd = ''\n",
    "# images directory\n",
    "imgd = os.path.join(wd, 'photos')\n",
    "# images\n",
    "bcc_img = os.path.join(imgd, 'bcc-4487_Denoised_FNL.jpg')\n"
   ]
  },
  {
   "cell_type": "markdown",
   "id": "261507ee-1fd0-41c6-9763-8e5dc10ccd5e",
   "metadata": {},
   "source": [
    "## BCC"
   ]
  },
  {
   "cell_type": "code",
   "execution_count": null,
   "id": "9eaac353-e75f-4c76-a82f-e7c83ff678d1",
   "metadata": {},
   "outputs": [],
   "source": [
    "%matplotlib inline\n",
    "\n",
    "plt.close('all')\n",
    "\n",
    "x = [i for i in range(765, 1145, 10)]\n",
    "print(f'Number of points: {len(x)}')\n",
    "image = oct.Image(os.path.join(wd, bcc_img))\n",
    "fig, ax = image.plot_image()\n",
    "ax.set_title(f'Image: {os.path.basename(bcc_img)}')\n",
    "\n",
    "blist = []\n",
    "for i in x:\n",
    "    fig, ax =  image.plot_image()\n",
    "    ax.set_title(f'Image: {os.path.basename(bcc_img)} (x = {i} px)')\n",
    "    image.draw_canny()\n",
    "    fig, ax = image.line_profile_from_canny(i, length=250, offset=3, fit_exp=True, bounds=(0, [1, np.inf, 1]))\n",
    "    ax.set_title(f'Line profile for x = {i} px')\n",
    "    image.show()\n",
    "    image.pp_fit_params()\n",
    "    blist.append(image.fit_params()['b'])\n",
    "\n",
    "print()\n",
    "print(f'b_mean: {np.mean(blist)}')\n",
    "print(f'b_std: {np.std(blist)}')\n",
    "for i in blist:\n",
    "    print(i)"
   ]
  },
  {
   "cell_type": "code",
   "execution_count": null,
   "id": "5226d7bf-0b26-4983-9771-b73cfeb75956",
   "metadata": {},
   "outputs": [],
   "source": []
  },
  {
   "cell_type": "code",
   "execution_count": null,
   "id": "451f3b68-3162-4a41-8cdc-69e2c47199c4",
   "metadata": {},
   "outputs": [],
   "source": []
  },
  {
   "cell_type": "code",
   "execution_count": null,
   "id": "659b5b05-e316-4611-89ee-dd72ce9961a0",
   "metadata": {},
   "outputs": [],
   "source": []
  },
  {
   "cell_type": "code",
   "execution_count": null,
   "id": "1a1887bc-6d59-49fa-992f-124760378b13",
   "metadata": {},
   "outputs": [],
   "source": []
  },
  {
   "cell_type": "code",
   "execution_count": null,
   "id": "dc54124c-fa2f-42e0-86a6-bec81f400009",
   "metadata": {},
   "outputs": [],
   "source": []
  },
  {
   "cell_type": "code",
   "execution_count": null,
   "id": "1fa26bef-45d9-40ac-946e-1366ea6b7bba",
   "metadata": {},
   "outputs": [],
   "source": []
  }
 ],
 "metadata": {
  "kernelspec": {
   "display_name": "oct",
   "language": "python",
   "name": "oct"
  },
  "language_info": {
   "codemirror_mode": {
    "name": "ipython",
    "version": 3
   },
   "file_extension": ".py",
   "mimetype": "text/x-python",
   "name": "python",
   "nbconvert_exporter": "python",
   "pygments_lexer": "ipython3",
   "version": "3.7.11"
  }
 },
 "nbformat": 4,
 "nbformat_minor": 5
}
